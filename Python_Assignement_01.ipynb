{
 "cells": [
  {
   "cell_type": "code",
   "execution_count": 1,
   "id": "6cb6cdbe",
   "metadata": {},
   "outputs": [
    {
     "name": "stdout",
     "output_type": "stream",
     "text": [
      "Twinkle, twinkle, little star, How I wonder what you are! Up above the world so high, Like a diamond in the sky. Twinkle, twinkle, little star, How I wonder what you are\n"
     ]
    }
   ],
   "source": [
    "# 1)\"'Write a Python program to print the following string in a specific format (see the output). Sample String : \"Twinkle, twinkle, little star, How I wonder what you are! Up above the world so high, Like a diamond in the sky. Twinkle, twinkle, little star, How I wonder what you are\" Output '\"\n",
    "a = \"Twinkle, twinkle, little star, How I wonder what you are! Up above the world so high, Like a diamond in the sky. Twinkle, twinkle, little star, How I wonder what you are\"\n",
    "print(a)"
   ]
  },
  {
   "cell_type": "code",
   "execution_count": 2,
   "id": "27b672f7",
   "metadata": {},
   "outputs": [
    {
     "name": "stdout",
     "output_type": "stream",
     "text": [
      "3.10.9 | packaged by Anaconda, Inc. | (main, Mar  1 2023, 18:18:15) [MSC v.1916 64 bit (AMD64)]\n"
     ]
    }
   ],
   "source": [
    "# 2)Write a Python program to get the Python version you are using\n",
    "\n",
    "import sys\n",
    "print(sys.version)"
   ]
  },
  {
   "cell_type": "code",
   "execution_count": 3,
   "id": "ba038dec",
   "metadata": {},
   "outputs": [
    {
     "name": "stdout",
     "output_type": "stream",
     "text": [
      "2023-09-19 11:27:26.979990\n"
     ]
    }
   ],
   "source": [
    "# 3) Write a Python program to display the current date and time.\n",
    "\n",
    "import datetime\n",
    "\n",
    "print(datetime.datetime.today())"
   ]
  },
  {
   "cell_type": "code",
   "execution_count": 4,
   "id": "91c9bda1",
   "metadata": {},
   "outputs": [
    {
     "name": "stdout",
     "output_type": "stream",
     "text": [
      "Enter radius of circle2\n",
      "12.56\n"
     ]
    }
   ],
   "source": [
    "# 4) Write a Python program which accepts the radius of a circle from the user and compute the area\n",
    "\n",
    "r = int(input(\"Enter radius of circle\"))\n",
    "\n",
    "area = 3.14*r*r\n",
    "print(area)"
   ]
  },
  {
   "cell_type": "code",
   "execution_count": 5,
   "id": "2a5a0b10",
   "metadata": {},
   "outputs": [
    {
     "name": "stdout",
     "output_type": "stream",
     "text": [
      "Enter the first name Aman Priyambad\n",
      "enter the last name Priyambad\n",
      "dabmayirP dabmayirP namA\n"
     ]
    }
   ],
   "source": [
    "# 5)Write a Python program which accepts the user's first and last name and print them in reverse order with a space between them.\n",
    "\n",
    "first_name = str(input(\"Enter the first name \"))\n",
    "last_name = str(input(\"enter the last name \"))\n",
    "\n",
    "print(last_name[::-1], first_name[::-1])"
   ]
  },
  {
   "cell_type": "code",
   "execution_count": 6,
   "id": "36d6a9c2",
   "metadata": {},
   "outputs": [
    {
     "name": "stdout",
     "output_type": "stream",
     "text": [
      "Enter the number23,35,67,89\n",
      "['23', '35', '67', '89']\n"
     ]
    }
   ],
   "source": [
    "# 6)Write a Python program which accepts a sequence of comma-separated numbers from user and generate a list with those numbers\n",
    "\n",
    "num = input('Enter the number')\n",
    "list = num.split(',')\n",
    "print(list)"
   ]
  },
  {
   "cell_type": "code",
   "execution_count": 7,
   "id": "335d8919",
   "metadata": {},
   "outputs": [
    {
     "name": "stdout",
     "output_type": "stream",
     "text": [
      "Enter the file name hp, dell, asus, mac\n",
      "['hp, dell, asus, mac']\n"
     ]
    }
   ],
   "source": [
    "# 7)Write a Python program to accept a filename from the user and print the extension of that\n",
    "\n",
    "file_name = input('Enter the file name ')\n",
    "a = file_name.split('.')\n",
    "print(a)"
   ]
  },
  {
   "cell_type": "code",
   "execution_count": 8,
   "id": "b5e3c278",
   "metadata": {},
   "outputs": [
    {
     "name": "stdout",
     "output_type": "stream",
     "text": [
      "yellow\n",
      "orange\n"
     ]
    }
   ],
   "source": [
    "# 8)Write a Python program to display the first and last colors from the following list\n",
    "color_list = [\"yellow\",\"Green\",\"grey\" ,\"orange\"]\n",
    "print(color_list[0])\n",
    "print(color_list[3])"
   ]
  },
  {
   "cell_type": "code",
   "execution_count": 9,
   "id": "0287ea8c",
   "metadata": {},
   "outputs": [
    {
     "name": "stdout",
     "output_type": "stream",
     "text": [
      "Enter the number12\n",
      "122436\n"
     ]
    }
   ],
   "source": [
    "# 10)Write a Python program that accepts an integer (n) and computes the value of n+nn+nnn\n",
    "\n",
    "X = int(input(\"Enter the number\"))\n",
    "\n",
    "n1 = int('%s' % X)\n",
    "n2 = int('%s%s' %(X,X))\n",
    "n3 = int('%s%s%s' %(X,X,X))\n",
    "print(n1+n2+n3)"
   ]
  },
  {
   "cell_type": "code",
   "execution_count": 10,
   "id": "36fac363",
   "metadata": {},
   "outputs": [
    {
     "name": "stdout",
     "output_type": "stream",
     "text": [
      "The data type of a is:  <class 'bool'>\n",
      "The data type of b is:  <class 'float'>\n",
      "The data type of c is:  <class 'int'>\n",
      "The data type of d is:  <class 'str'>\n"
     ]
    }
   ],
   "source": [
    "# 10).Write a program to demonstrate different number data types in Python.\n",
    "\n",
    "a = True\n",
    "b = 34.5\n",
    "c = 5\n",
    "d = 'Data Science'\n",
    "\n",
    "print('The data type of a is: ', type(a))\n",
    "print('The data type of b is: ', type(b))\n",
    "print('The data type of c is: ', type(c))\n",
    "print('The data type of d is: ', type(d))\n"
   ]
  },
  {
   "cell_type": "code",
   "execution_count": 11,
   "id": "11ed12e8",
   "metadata": {},
   "outputs": [],
   "source": [
    "# 11)Python Program to find sum of array\n",
    "import numpy as np\n",
    "\n",
    "def sumofarray(b):\n",
    "    sum = 0\n",
    "    for i in b:\n",
    "        sum = sum + i\n",
    "    return sum"
   ]
  },
  {
   "cell_type": "code",
   "execution_count": 12,
   "id": "136838f9",
   "metadata": {},
   "outputs": [
    {
     "data": {
      "text/plain": [
       "6"
      ]
     },
     "execution_count": 12,
     "metadata": {},
     "output_type": "execute_result"
    }
   ],
   "source": [
    "sumofarray(np.array([1,2,3]))"
   ]
  },
  {
   "cell_type": "code",
   "execution_count": 13,
   "id": "0df501e5",
   "metadata": {},
   "outputs": [
    {
     "name": "stdout",
     "output_type": "stream",
     "text": [
      "Enter the first string Rohan\n",
      "Enter the second string Verma\n",
      "Print the string s1  Rohan\n",
      "Print the string s2  Verma\n",
      "Print the concatenate the string  RohanVerma\n",
      "Print sub_string s1 is  oh\n",
      "print sub_string s2 is  er\n"
     ]
    }
   ],
   "source": [
    "# 12) Write a program to create, concatenate and print a string and accessing sub-string from a given string\n",
    "\n",
    "s1 = input(\"Enter the first string \")\n",
    "s2 = input(\"Enter the second string \")\n",
    "print(\"Print the string s1 \", s1)\n",
    "print('Print the string s2 ', s2)\n",
    "print('Print the concatenate the string ', s1 + s2)\n",
    "print('Print sub_string s1 is ', s1[1:3])\n",
    "print('print sub_string s2 is ', s2[1:3])"
   ]
  },
  {
   "cell_type": "code",
   "execution_count": 14,
   "id": "a1f88044",
   "metadata": {},
   "outputs": [
    {
     "name": "stdout",
     "output_type": "stream",
     "text": [
      "(1, 2, 35, 6)\n"
     ]
    },
    {
     "data": {
      "text/plain": [
       "tuple"
      ]
     },
     "execution_count": 14,
     "metadata": {},
     "output_type": "execute_result"
    }
   ],
   "source": [
    "# 13) Create and explain the working of tuple.\n",
    "tup = (1,2,35,6)\n",
    "print(tup)\n",
    "type(tup)"
   ]
  },
  {
   "cell_type": "code",
   "execution_count": 15,
   "id": "654881b0",
   "metadata": {},
   "outputs": [],
   "source": [
    "# Tuple is immutable,in tuple we will not change the value."
   ]
  },
  {
   "cell_type": "code",
   "execution_count": 16,
   "id": "50cc1299",
   "metadata": {
    "scrolled": false
   },
   "outputs": [
    {
     "name": "stdout",
     "output_type": "stream",
     "text": [
      "Enter the number 1 75\n",
      "Enter the number 2 87\n",
      "Enter the number 3 98\n",
      "The largest number is:  98\n"
     ]
    }
   ],
   "source": [
    "# 14) Write a python program to find largest of three numbers.\n",
    "\n",
    "num1 = int(input('Enter the number 1 '))\n",
    "num2 = int(input('Enter the number 2 '))\n",
    "num3 = int(input('Enter the number 3 '))\n",
    "\n",
    "if num1>=num2 and num1>=num3:\n",
    "    print('The larget number is: ', num1)\n",
    "elif num2>=num1 and num2>=num3:\n",
    "    print('The larget number is: ', num2)\n",
    "else:\n",
    "    print('The largest number is: ', num3)"
   ]
  },
  {
   "cell_type": "code",
   "execution_count": 17,
   "id": "cc61c263",
   "metadata": {},
   "outputs": [
    {
     "name": "stdout",
     "output_type": "stream",
     "text": [
      "Enter the temperature 34\n",
      "Enter the unit f\n",
      "Temperature in celcius  1.1111111111111112\n"
     ]
    }
   ],
   "source": [
    "# 15)Write a Python program to convert temperatures to and from Celsius, Fahrenheit. [ Formula: c = (f-32)(5/9)]\n",
    "\n",
    "temp = float(input('Enter the temperature '))\n",
    "unit = input('Enter the unit ')\n",
    "\n",
    "if unit=='C' or unit =='c':\n",
    "    newtemp= 9/5*(temp+32)\n",
    "    print('Temperature in farenhite ', newtemp)\n",
    "elif unit== 'F' or unit=='f':\n",
    "    newtemp= 5/9*(temp-32)\n",
    "    print('Temperature in celcius ', newtemp)\n",
    "else:\n",
    "    print('Unknown')"
   ]
  },
  {
   "cell_type": "code",
   "execution_count": 18,
   "id": "c4fccd54",
   "metadata": {},
   "outputs": [
    {
     "name": "stdout",
     "output_type": "stream",
     "text": [
      "\n",
      "* \n",
      "* * \n",
      "* * * \n",
      "* * * * \n",
      "* * * * * \n",
      "* * * * * * \n",
      "* * * * * * * \n",
      "* * * * * * \n",
      "* * * * * \n",
      "* * * * \n",
      "* * * \n",
      "* * \n",
      "* \n"
     ]
    }
   ],
   "source": [
    "# 16) Write a Python program to construct the following pattern, using a nested for loop\n",
    "\n",
    "max = 6\n",
    "\n",
    "for i in range(0, max+1):\n",
    "    print('* ' *i)\n",
    "for i in range(max+1, 0, -1):\n",
    "    print('* '*i)"
   ]
  },
  {
   "cell_type": "code",
   "execution_count": 19,
   "id": "596feb0f",
   "metadata": {},
   "outputs": [
    {
     "name": "stdout",
     "output_type": "stream",
     "text": [
      "Enter the length of one side: 4\n",
      "Enter the other first side: 5\n",
      "Enter the the other second side: 6\n",
      "The triangle is not a right angle triangle \n"
     ]
    }
   ],
   "source": [
    "# 17) Write a program that accepts the lengths of three sides of a triangle as inputs. The program output should indicate whether or not the triangle is a right triangle (Recall from the Pythagorean Theorem that in a right triangle, the square of one side equals the sum of the squares of the other two sides).\n",
    "\n",
    "hypo = float(input('Enter the length of one side: '))\n",
    "base = float(input('Enter the other first side: '))\n",
    "height = float(input('Enter the the other second side: '))\n",
    "\n",
    "if hypo**2==(base**2)+(height**2):\n",
    "    print('The triangle is a right angle triangle')\n",
    "else:\n",
    "    print('The triangle is not a right angle triangle ')"
   ]
  },
  {
   "cell_type": "code",
   "execution_count": 20,
   "id": "f398f146",
   "metadata": {},
   "outputs": [],
   "source": [
    "# 18) Given a range of the first 10 numbers, Iterate from the start number to the end number, and In each iteration print the sum of the current number and previous number\n",
    "\n",
    "def sumofpreviousnum(num):\n",
    "    previousnum=0\n",
    "    \n",
    "    if i in range(num):\n",
    "        sum=previousnum+i\n",
    "        print('The current number is: ', i, 'Previous number is ', previousnum, 'sum is ', sum)\n",
    "        previousnum=i"
   ]
  },
  {
   "cell_type": "code",
   "execution_count": 23,
   "id": "7b20463d",
   "metadata": {},
   "outputs": [
    {
     "name": "stdout",
     "output_type": "stream",
     "text": [
      "The current number is:  1 Previous number is  0 sum is  1\n"
     ]
    }
   ],
   "source": [
    "sumofpreviousnum(20)"
   ]
  },
  {
   "cell_type": "code",
   "execution_count": 29,
   "id": "ea62d5c4",
   "metadata": {},
   "outputs": [],
   "source": [
    "# 19) Print multiplication table of 12 using recursion\n",
    "\n",
    "def table(n,i):\n",
    "    print(n*i)\n",
    "    i=i+1\n",
    "    if i<=10:\n",
    "        table(n,i)"
   ]
  },
  {
   "cell_type": "code",
   "execution_count": 30,
   "id": "d793f54a",
   "metadata": {},
   "outputs": [
    {
     "name": "stdout",
     "output_type": "stream",
     "text": [
      "12\n",
      "24\n",
      "36\n",
      "48\n",
      "60\n",
      "72\n",
      "84\n",
      "96\n",
      "108\n",
      "120\n"
     ]
    }
   ],
   "source": [
    "table(12,1)"
   ]
  },
  {
   "cell_type": "code",
   "execution_count": 31,
   "id": "0510263e",
   "metadata": {},
   "outputs": [],
   "source": [
    "# 20) Write a function to calculate area and perimeter of a rectangle.\n",
    "\n",
    "def area_of_rectangle(a,b):\n",
    "    area= (a*b)\n",
    "    print(area)\n",
    "    perimeter=2*(a*b)\n",
    "    print(perimeter)"
   ]
  },
  {
   "cell_type": "code",
   "execution_count": 32,
   "id": "1a897259",
   "metadata": {},
   "outputs": [
    {
     "name": "stdout",
     "output_type": "stream",
     "text": [
      "20\n",
      "40\n"
     ]
    }
   ],
   "source": [
    "area_of_rectangle(5,4)"
   ]
  },
  {
   "cell_type": "code",
   "execution_count": 34,
   "id": "f4d411b7",
   "metadata": {},
   "outputs": [],
   "source": [
    "# 20) Write a function to calculate power of a number raised to other\n",
    "\n",
    "def power(a,b):\n",
    "    power=a**b\n",
    "    print(power)"
   ]
  },
  {
   "cell_type": "code",
   "execution_count": 35,
   "id": "64c5cb05",
   "metadata": {},
   "outputs": [
    {
     "name": "stdout",
     "output_type": "stream",
     "text": [
      "8\n"
     ]
    }
   ],
   "source": [
    "power(2,3)"
   ]
  },
  {
   "cell_type": "code",
   "execution_count": 36,
   "id": "66e955e8",
   "metadata": {},
   "outputs": [],
   "source": [
    "# 21) Write a function to tell user if he/she is able to vote or not.\n",
    "\n",
    "def voterage(age):\n",
    "    if age>=18:\n",
    "        print(\"He/She is able to vote: \")\n",
    "    else:\n",
    "        print(\"He/She is not able to vote\")"
   ]
  },
  {
   "cell_type": "code",
   "execution_count": 37,
   "id": "7f790188",
   "metadata": {},
   "outputs": [
    {
     "name": "stdout",
     "output_type": "stream",
     "text": [
      "He/She is able to vote: \n"
     ]
    }
   ],
   "source": [
    "voterage(20)"
   ]
  },
  {
   "cell_type": "code",
   "execution_count": 38,
   "id": "82063981",
   "metadata": {},
   "outputs": [
    {
     "name": "stdout",
     "output_type": "stream",
     "text": [
      "He/She is not able to vote\n"
     ]
    }
   ],
   "source": [
    "voterage(17)"
   ]
  },
  {
   "cell_type": "code",
   "execution_count": 41,
   "id": "3a93ba05",
   "metadata": {},
   "outputs": [],
   "source": [
    "# 22) Write a function to check if a number is even or not.\n",
    "\n",
    "def evenodd():\n",
    "    num=int(input('Enter the number'))\n",
    "    if num%2==0:\n",
    "        print('The number is even')\n",
    "    else:\n",
    "        print('The number is odd')"
   ]
  },
  {
   "cell_type": "code",
   "execution_count": 42,
   "id": "29808134",
   "metadata": {},
   "outputs": [
    {
     "name": "stdout",
     "output_type": "stream",
     "text": [
      "Enter the number3\n",
      "The number is odd\n"
     ]
    }
   ],
   "source": [
    "evenodd()"
   ]
  },
  {
   "cell_type": "code",
   "execution_count": 51,
   "id": "630c0f33",
   "metadata": {},
   "outputs": [],
   "source": [
    "# 23) Write a function to check if a number is prime or not\n",
    "\n",
    "def is_prime(n):\n",
    "    for i in range(2,n):\n",
    "        if (n%i) == 0:\n",
    "            return False\n",
    "        return True"
   ]
  },
  {
   "cell_type": "code",
   "execution_count": 55,
   "id": "bfb2eb58",
   "metadata": {},
   "outputs": [
    {
     "name": "stdout",
     "output_type": "stream",
     "text": [
      "not prime\n",
      "not prime\n",
      "Prime\n",
      "Prime\n"
     ]
    }
   ],
   "source": [
    "it_prime(6)"
   ]
  },
  {
   "cell_type": "code",
   "execution_count": 1,
   "id": "c9a81d48",
   "metadata": {},
   "outputs": [
    {
     "name": "stdout",
     "output_type": "stream",
     "text": [
      "Number is same\n"
     ]
    }
   ],
   "source": [
    "# 24)Given a list of numbers, return True if first and last number of a list is same\n",
    "\n",
    "num = [10,20,30,40,50,60,10]\n",
    "\n",
    "first_number = num[0]\n",
    "last_number = num[-1]\n",
    "\n",
    "if first_number==last_number:\n",
    "    print('Number is same')\n",
    "else:\n",
    "    print('The number is not same')"
   ]
  },
  {
   "cell_type": "code",
   "execution_count": 2,
   "id": "799ca005",
   "metadata": {},
   "outputs": [
    {
     "name": "stdout",
     "output_type": "stream",
     "text": [
      "False\n",
      "False\n"
     ]
    }
   ],
   "source": [
    "# 25) Write a program to check if each word in a string begins with a capital letter?\n",
    "\n",
    "print(\"The america\".istitle())\n",
    "print(\"the america\".istitle())"
   ]
  },
  {
   "cell_type": "code",
   "execution_count": 4,
   "id": "5e0fa0ca",
   "metadata": {},
   "outputs": [
    {
     "data": {
      "text/plain": [
       "True"
      ]
     },
     "execution_count": 4,
     "metadata": {},
     "output_type": "execute_result"
    }
   ],
   "source": [
    "# 26) Write a program to Check if a string contains a specific substring\n",
    "\n",
    "a = 'The world fastest plane'\n",
    "\n",
    "'plane' in a"
   ]
  },
  {
   "cell_type": "code",
   "execution_count": 6,
   "id": "2e684756",
   "metadata": {},
   "outputs": [
    {
     "data": {
      "text/plain": [
       "'Aman priyambad'"
      ]
     },
     "execution_count": 6,
     "metadata": {},
     "output_type": "execute_result"
    }
   ],
   "source": [
    "# 27) Capitalize the first character of a string\n",
    "\n",
    "str = 'aman priyambad'\n",
    "str.capitalize()"
   ]
  },
  {
   "cell_type": "code",
   "execution_count": 8,
   "id": "02a71d48",
   "metadata": {},
   "outputs": [
    {
     "name": "stdout",
     "output_type": "stream",
     "text": [
      "dabmayirP namA\n"
     ]
    }
   ],
   "source": [
    "# 28) Reverse the string “hello world”\n",
    "\n",
    "str = 'Aman Priyambad'\n",
    "print(str[::-1])"
   ]
  },
  {
   "cell_type": "code",
   "execution_count": 10,
   "id": "33537d91",
   "metadata": {},
   "outputs": [
    {
     "data": {
      "text/plain": [
       "'.join([c for c in string if c not in vowels])'"
      ]
     },
     "execution_count": 10,
     "metadata": {},
     "output_type": "execute_result"
    }
   ],
   "source": [
    "# 29) Remove vowels from a strings\n",
    "\n",
    "str1 = 'Hello World'\n",
    "vowels = ('a','e','i','o','u')\n",
    "'.join([c for c in string if c not in vowels])'"
   ]
  },
  {
   "cell_type": "code",
   "execution_count": 12,
   "id": "2025c8e0",
   "metadata": {},
   "outputs": [
    {
     "name": "stdout",
     "output_type": "stream",
     "text": [
      "['p', 'r', 'i', 'y', 'a', 'm', 'b', 'a', 'd']\n"
     ]
    }
   ],
   "source": [
    "# 30) Iterate through a string Using for Loop.\n",
    "\n",
    "str2 = \"priyambad\"\n",
    "h_letters = []\n",
    "\n",
    "for i in str2:\n",
    "    h_letters.append(i)\n",
    "    \n",
    "print(h_letters)"
   ]
  },
  {
   "cell_type": "code",
   "execution_count": 17,
   "id": "21236763",
   "metadata": {},
   "outputs": [
    {
     "name": "stdout",
     "output_type": "stream",
     "text": [
      "Enter the number 43\n",
      "Number is not divisible by 7 \n"
     ]
    }
   ],
   "source": [
    "# 31)Write a program to check whether a number is divisible by 7 or not.\n",
    "\n",
    "num = int(input('Enter the number '))\n",
    "\n",
    "if num%7==0:\n",
    "    print('Number is divisible by 7 ')\n",
    "else:\n",
    "    print('Number is not divisible by 7 ')"
   ]
  },
  {
   "cell_type": "code",
   "execution_count": 20,
   "id": "c804b552",
   "metadata": {},
   "outputs": [
    {
     "name": "stdout",
     "output_type": "stream",
     "text": [
      "Enter the number of unit 250\n",
      "The amount of electricity bill is:  1000\n"
     ]
    }
   ],
   "source": [
    "# 32) Write a program to calculate the electricity bill (accept number of unit from user) according to the following criteria\n",
    "# First 100 units no charge Next 100 units Rs 5 per unit After 200 units Rs 10 per unit (For example if input unit is 350 than total bill amount is Rs2000)\n",
    "\n",
    "amt = 0\n",
    "\n",
    "unit = int(input('Enter the number of unit '))\n",
    "\n",
    "if unit<=100:\n",
    "    amt=0\n",
    "elif unit>=100 and unit<=200:\n",
    "    amt=(unit-100)*5\n",
    "elif unit>=200:\n",
    "    amt=500+(unit-200)*10\n",
    "print('The amount of electricity bill is: ', amt)"
   ]
  },
  {
   "cell_type": "code",
   "execution_count": 22,
   "id": "6ef154c8",
   "metadata": {},
   "outputs": [
    {
     "name": "stdout",
     "output_type": "stream",
     "text": [
      "Enter the number: 244\n",
      "The last digit number is:  4.0\n"
     ]
    }
   ],
   "source": [
    "# 33) Write a program to display the last digit of a number. (hint : any number % 10 will return the last digit)\n",
    "\n",
    "num1 = float(input('Enter the number: '))\n",
    "print('The last digit number is: ',num1%10)"
   ]
  },
  {
   "cell_type": "code",
   "execution_count": 25,
   "id": "e63f7d70",
   "metadata": {},
   "outputs": [
    {
     "name": "stdout",
     "output_type": "stream",
     "text": [
      "Enter the number: 2013\n",
      "Not leap year \n"
     ]
    }
   ],
   "source": [
    "# 34) Write a program to check whether an years is leap year or not.\n",
    "\n",
    "yr = int(input('Enter the number: '))\n",
    "if yr%100==0:\n",
    "    if yr%400==0:\n",
    "        print('Leap year')\n",
    "    else:\n",
    "        print('Not leap year')\n",
    "else:\n",
    "    if yr%4==0:\n",
    "        print('Leap year ')\n",
    "    else:\n",
    "        print('Not leap year ')"
   ]
  },
  {
   "cell_type": "code",
   "execution_count": 27,
   "id": "8ce9b785",
   "metadata": {},
   "outputs": [
    {
     "name": "stdout",
     "output_type": "stream",
     "text": [
      "Input a dog's age in human years: 21\n"
     ]
    }
   ],
   "source": [
    "# 35) Write a Python program to calculate a dog's age in dog's years. Go to the editor Note: For the first two years, a dog year is equal to 10.5 human years. After that, each dog year equals 4 human years. Expected Output:\n",
    "\n",
    "h_age = int(input(\"Input a dog's age in human years: \"))\n",
    "\n",
    "if h_age < 0:\n",
    "    print(\"Age must be positive number.\")\n",
    "    exit()\n",
    "elif h_age <= 2:\n",
    "    d_age = h_age * 10.5\n",
    "else:\n",
    "    d_age = 21 + (h_age - 2)*4\n",
    "    "
   ]
  },
  {
   "cell_type": "code",
   "execution_count": null,
   "id": "d5d8ec4e",
   "metadata": {},
   "outputs": [],
   "source": []
  }
 ],
 "metadata": {
  "kernelspec": {
   "display_name": "Python 3 (ipykernel)",
   "language": "python",
   "name": "python3"
  },
  "language_info": {
   "codemirror_mode": {
    "name": "ipython",
    "version": 3
   },
   "file_extension": ".py",
   "mimetype": "text/x-python",
   "name": "python",
   "nbconvert_exporter": "python",
   "pygments_lexer": "ipython3",
   "version": "3.10.9"
  }
 },
 "nbformat": 4,
 "nbformat_minor": 5
}
